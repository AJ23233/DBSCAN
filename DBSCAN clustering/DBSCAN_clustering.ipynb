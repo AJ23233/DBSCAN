{
 "cells": [
  {
   "cell_type": "code",
   "execution_count": null,
   "id": "aef98d56",
   "metadata": {},
   "outputs": [],
   "source": [
    "# DBSCAN : Density Based Spatial Clustering of pplication with Noise"
   ]
  },
  {
   "cell_type": "code",
   "execution_count": 2,
   "id": "e9b94313",
   "metadata": {},
   "outputs": [],
   "source": [
    "import pandas as pd\n",
    "import numpy as np"
   ]
  },
  {
   "cell_type": "code",
   "execution_count": 11,
   "id": "05132f48",
   "metadata": {},
   "outputs": [],
   "source": [
    "# Reading the dataset\n",
    "data = pd.read_csv(\"./Mall_Customers.csv\")\n",
    "data.head()\n",
    "X = data.iloc[:,[3,4]].values"
   ]
  },
  {
   "cell_type": "code",
   "execution_count": 12,
   "id": "008e2a0d",
   "metadata": {},
   "outputs": [],
   "source": [
    "# Importing and Creating the dbscan object\n",
    "from sklearn.cluster import DBSCAN\n",
    "dbscan = DBSCAN(eps=3, min_samples=4)"
   ]
  },
  {
   "cell_type": "code",
   "execution_count": 13,
   "id": "abd2edbc",
   "metadata": {},
   "outputs": [],
   "source": [
    "#Creating dbscan model\n",
    "model = dbscan.fit(X)"
   ]
  },
  {
   "cell_type": "code",
   "execution_count": 14,
   "id": "302c4dcc",
   "metadata": {},
   "outputs": [],
   "source": [
    "labels = model.labels_"
   ]
  },
  {
   "cell_type": "code",
   "execution_count": 16,
   "id": "6234bed8",
   "metadata": {},
   "outputs": [],
   "source": [
    "from sklearn import metrics\n",
    "#identifying the points which makes up our core points\n",
    "sample_cores=np.zeros_like(labels,dtype=bool)"
   ]
  },
  {
   "cell_type": "code",
   "execution_count": 17,
   "id": "cb30717c",
   "metadata": {},
   "outputs": [],
   "source": [
    "sample_cores[dbscan.core_sample_indices_]=True"
   ]
  },
  {
   "cell_type": "code",
   "execution_count": 18,
   "id": "cb7eafde",
   "metadata": {},
   "outputs": [],
   "source": [
    "#Calculating the number of clusters\n",
    "n_clusters=len(set(labels))- (1 if -1 in labels else 0)"
   ]
  },
  {
   "cell_type": "code",
   "execution_count": 19,
   "id": "5f1fa58b",
   "metadata": {},
   "outputs": [
    {
     "name": "stdout",
     "output_type": "stream",
     "text": [
      "-0.1908319132560097\n"
     ]
    }
   ],
   "source": [
    "print(metrics.silhouette_score(X,labels))"
   ]
  },
  {
   "cell_type": "code",
   "execution_count": null,
   "id": "daf42e3d",
   "metadata": {},
   "outputs": [],
   "source": []
  }
 ],
 "metadata": {
  "kernelspec": {
   "display_name": "Python 3 (ipykernel)",
   "language": "python",
   "name": "python3"
  },
  "language_info": {
   "codemirror_mode": {
    "name": "ipython",
    "version": 3
   },
   "file_extension": ".py",
   "mimetype": "text/x-python",
   "name": "python",
   "nbconvert_exporter": "python",
   "pygments_lexer": "ipython3",
   "version": "3.8.10"
  }
 },
 "nbformat": 4,
 "nbformat_minor": 5
}
